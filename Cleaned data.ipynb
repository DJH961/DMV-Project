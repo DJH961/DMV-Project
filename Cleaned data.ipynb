{
 "cells": [
  {
   "cell_type": "markdown",
   "id": "6dc218a8",
   "metadata": {},
   "source": [
    "TO DO:\n",
    "- Export cleaned data to CSV\n",
    "- Duplicate check!\n",
    "- Import to PGAdmin\n",
    "- Create Host Table (either in Python or SQL)\n",
    "- Create Booking Fact Table\n",
    "- Create Success Fact Table\n",
    "- Create other dimension\n",
    "- Check Normalization (not thoroughly)"
   ]
  },
  {
   "cell_type": "code",
   "execution_count": 38,
   "id": "46cc8e3e",
   "metadata": {},
   "outputs": [],
   "source": [
    "import pandas as pd\n",
    "import matplotlib.pyplot as plt\n",
    "import numpy as np\n",
    "import seaborn as sns\n",
    "\n",
    "calendar_df = pd.read_csv('calendar2024.csv')\n",
    "listings_df = pd.read_csv('listings2024.csv')\n",
    "reviews_df = pd.read_csv('reviews2024.csv')"
   ]
  },
  {
   "cell_type": "code",
   "execution_count": 39,
   "id": "592514d0",
   "metadata": {},
   "outputs": [
    {
     "name": "stdout",
     "output_type": "stream",
     "text": [
      "(20909, 75)\n",
      "(366636, 6)\n",
      "(7631731, 7)\n"
     ]
    }
   ],
   "source": [
    "# count of rows and columns\n",
    "print(listings_df.shape)\n",
    "print(reviews_df. shape)\n",
    "print(calendar_df. shape)"
   ]
  },
  {
   "cell_type": "markdown",
   "id": "66de2904",
   "metadata": {},
   "source": [
    "# Listings"
   ]
  },
  {
   "cell_type": "code",
   "execution_count": 40,
   "id": "16f97e48",
   "metadata": {},
   "outputs": [
    {
     "name": "stdout",
     "output_type": "stream",
     "text": [
      "<class 'pandas.core.frame.DataFrame'>\n",
      "RangeIndex: 20909 entries, 0 to 20908\n",
      "Data columns (total 72 columns):\n",
      " #   Column                                        Non-Null Count  Dtype  \n",
      "---  ------                                        --------------  -----  \n",
      " 0   id                                            20909 non-null  int64  \n",
      " 1   listing_url                                   20909 non-null  object \n",
      " 2   scrape_id                                     20909 non-null  int64  \n",
      " 3   last_scraped                                  20909 non-null  object \n",
      " 4   source                                        20909 non-null  object \n",
      " 5   name                                          20909 non-null  object \n",
      " 6   description                                   20235 non-null  object \n",
      " 7   neighborhood_overview                         8984 non-null   object \n",
      " 8   picture_url                                   20909 non-null  object \n",
      " 9   host_id                                       20909 non-null  int64  \n",
      " 10  host_url                                      20909 non-null  object \n",
      " 11  host_name                                     20908 non-null  object \n",
      " 12  host_since                                    20908 non-null  object \n",
      " 13  host_location                                 17480 non-null  object \n",
      " 14  host_about                                    8866 non-null   object \n",
      " 15  host_response_time                            14441 non-null  object \n",
      " 16  host_response_rate                            14441 non-null  object \n",
      " 17  host_acceptance_rate                          17161 non-null  object \n",
      " 18  host_is_superhost                             20685 non-null  object \n",
      " 19  host_thumbnail_url                            20908 non-null  object \n",
      " 20  host_picture_url                              20908 non-null  object \n",
      " 21  host_neighbourhood                            5417 non-null   object \n",
      " 22  host_listings_count                           20908 non-null  float64\n",
      " 23  host_total_listings_count                     20908 non-null  float64\n",
      " 24  host_verifications                            20909 non-null  object \n",
      " 25  host_has_profile_pic                          20908 non-null  object \n",
      " 26  host_identity_verified                        20908 non-null  object \n",
      " 27  neighbourhood                                 8984 non-null   object \n",
      " 28  neighbourhood_cleansed                        20909 non-null  object \n",
      " 29  latitude                                      20909 non-null  float64\n",
      " 30  longitude                                     20909 non-null  float64\n",
      " 31  property_type                                 20909 non-null  object \n",
      " 32  room_type                                     20909 non-null  object \n",
      " 33  accommodates                                  20909 non-null  int64  \n",
      " 34  bathrooms                                     13660 non-null  float64\n",
      " 35  bathrooms_text                                20903 non-null  object \n",
      " 36  bedrooms                                      20300 non-null  float64\n",
      " 37  beds                                          13660 non-null  float64\n",
      " 38  amenities                                     20909 non-null  object \n",
      " 39  price                                         13596 non-null  object \n",
      " 40  minimum_nights                                20909 non-null  int64  \n",
      " 41  maximum_nights                                20909 non-null  int64  \n",
      " 42  minimum_minimum_nights                        20909 non-null  int64  \n",
      " 43  maximum_minimum_nights                        20909 non-null  int64  \n",
      " 44  minimum_maximum_nights                        20909 non-null  int64  \n",
      " 45  maximum_maximum_nights                        20909 non-null  int64  \n",
      " 46  minimum_nights_avg_ntm                        20909 non-null  float64\n",
      " 47  maximum_nights_avg_ntm                        20909 non-null  float64\n",
      " 48  has_availability                              20437 non-null  object \n",
      " 49  availability_30                               20909 non-null  int64  \n",
      " 50  availability_60                               20909 non-null  int64  \n",
      " 51  availability_90                               20909 non-null  int64  \n",
      " 52  availability_365                              20909 non-null  int64  \n",
      " 53  calendar_last_scraped                         20909 non-null  object \n",
      " 54  number_of_reviews                             20909 non-null  int64  \n",
      " 55  number_of_reviews_ltm                         20909 non-null  int64  \n",
      " 56  number_of_reviews_l30d                        20909 non-null  int64  \n",
      " 57  first_review                                  17689 non-null  object \n",
      " 58  last_review                                   17689 non-null  object \n",
      " 59  review_scores_rating                          17689 non-null  float64\n",
      " 60  review_scores_accuracy                        17665 non-null  float64\n",
      " 61  review_scores_cleanliness                     17665 non-null  float64\n",
      " 62  review_scores_checkin                         17665 non-null  float64\n",
      " 63  review_scores_communication                   17665 non-null  float64\n",
      " 64  review_scores_location                        17664 non-null  float64\n",
      " 65  review_scores_value                           17664 non-null  float64\n",
      " 66  instant_bookable                              20909 non-null  object \n",
      " 67  calculated_host_listings_count                20909 non-null  int64  \n",
      " 68  calculated_host_listings_count_entire_homes   20909 non-null  int64  \n",
      " 69  calculated_host_listings_count_private_rooms  20909 non-null  int64  \n",
      " 70  calculated_host_listings_count_shared_rooms   20909 non-null  int64  \n",
      " 71  reviews_per_month                             17689 non-null  float64\n",
      "dtypes: float64(17), int64(21), object(34)\n",
      "memory usage: 11.5+ MB\n"
     ]
    },
    {
     "data": {
      "text/plain": [
       "(20909, 72)"
      ]
     },
     "execution_count": 40,
     "metadata": {},
     "output_type": "execute_result"
    }
   ],
   "source": [
    "#Removing columns with no data\n",
    "threshold = len(listings_df)\n",
    "listings_df = listings_df.loc[:, listings_df.isnull().sum() < threshold]\n",
    "\n",
    "listings_df.info()\n",
    "listings_df.shape"
   ]
  },
  {
   "cell_type": "code",
   "execution_count": 41,
   "id": "61dd7607",
   "metadata": {
    "scrolled": false
   },
   "outputs": [
    {
     "name": "stdout",
     "output_type": "stream",
     "text": [
      "<class 'pandas.core.frame.DataFrame'>\n",
      "RangeIndex: 20909 entries, 0 to 20908\n",
      "Data columns (total 72 columns):\n",
      " #   Column                                        Non-Null Count  Dtype  \n",
      "---  ------                                        --------------  -----  \n",
      " 0   id                                            20909 non-null  int64  \n",
      " 1   listing_url                                   20909 non-null  object \n",
      " 2   scrape_id                                     20909 non-null  int64  \n",
      " 3   last_scraped                                  20909 non-null  object \n",
      " 4   source                                        20909 non-null  object \n",
      " 5   name                                          20909 non-null  object \n",
      " 6   description                                   20235 non-null  object \n",
      " 7   neighborhood_overview                         8984 non-null   object \n",
      " 8   picture_url                                   20909 non-null  object \n",
      " 9   host_id                                       20909 non-null  int64  \n",
      " 10  host_url                                      20909 non-null  object \n",
      " 11  host_name                                     20908 non-null  object \n",
      " 12  host_since                                    20908 non-null  object \n",
      " 13  host_location                                 17480 non-null  object \n",
      " 14  host_about                                    8866 non-null   object \n",
      " 15  host_response_time                            14441 non-null  object \n",
      " 16  host_response_rate                            14441 non-null  object \n",
      " 17  host_acceptance_rate                          17161 non-null  object \n",
      " 18  host_is_superhost                             20685 non-null  object \n",
      " 19  host_thumbnail_url                            20908 non-null  object \n",
      " 20  host_picture_url                              20908 non-null  object \n",
      " 21  host_neighbourhood                            5417 non-null   object \n",
      " 22  host_listings_count                           20908 non-null  float64\n",
      " 23  host_total_listings_count                     20908 non-null  float64\n",
      " 24  host_verifications                            20909 non-null  object \n",
      " 25  host_has_profile_pic                          20908 non-null  object \n",
      " 26  host_identity_verified                        20908 non-null  object \n",
      " 27  neighbourhood                                 8984 non-null   object \n",
      " 28  neighbourhood_cleansed                        20909 non-null  object \n",
      " 29  latitude                                      20909 non-null  float64\n",
      " 30  longitude                                     20909 non-null  float64\n",
      " 31  property_type                                 20909 non-null  object \n",
      " 32  room_type                                     20909 non-null  object \n",
      " 33  accommodates                                  20909 non-null  int64  \n",
      " 34  bathrooms                                     13660 non-null  float64\n",
      " 35  bathrooms_text                                20903 non-null  object \n",
      " 36  bedrooms                                      20300 non-null  float64\n",
      " 37  beds                                          13660 non-null  float64\n",
      " 38  amenities                                     20909 non-null  object \n",
      " 39  price                                         13596 non-null  object \n",
      " 40  minimum_nights                                20909 non-null  int64  \n",
      " 41  maximum_nights                                20909 non-null  int64  \n",
      " 42  minimum_minimum_nights                        20909 non-null  int64  \n",
      " 43  maximum_minimum_nights                        20909 non-null  int64  \n",
      " 44  minimum_maximum_nights                        20909 non-null  int64  \n",
      " 45  maximum_maximum_nights                        20909 non-null  int64  \n",
      " 46  minimum_nights_avg_ntm                        20909 non-null  float64\n",
      " 47  maximum_nights_avg_ntm                        20909 non-null  float64\n",
      " 48  has_availability                              20437 non-null  object \n",
      " 49  availability_30                               20909 non-null  int64  \n",
      " 50  availability_60                               20909 non-null  int64  \n",
      " 51  availability_90                               20909 non-null  int64  \n",
      " 52  availability_365                              20909 non-null  int64  \n",
      " 53  calendar_last_scraped                         20909 non-null  object \n",
      " 54  number_of_reviews                             20909 non-null  int64  \n",
      " 55  number_of_reviews_ltm                         20909 non-null  int64  \n",
      " 56  number_of_reviews_l30d                        20909 non-null  int64  \n",
      " 57  first_review                                  17689 non-null  object \n",
      " 58  last_review                                   17689 non-null  object \n",
      " 59  review_scores_rating                          17689 non-null  float64\n",
      " 60  review_scores_accuracy                        17665 non-null  float64\n",
      " 61  review_scores_cleanliness                     17665 non-null  float64\n",
      " 62  review_scores_checkin                         17665 non-null  float64\n",
      " 63  review_scores_communication                   17665 non-null  float64\n",
      " 64  review_scores_location                        17664 non-null  float64\n",
      " 65  review_scores_value                           17664 non-null  float64\n",
      " 66  instant_bookable                              20909 non-null  object \n",
      " 67  calculated_host_listings_count                20909 non-null  int64  \n",
      " 68  calculated_host_listings_count_entire_homes   20909 non-null  int64  \n",
      " 69  calculated_host_listings_count_private_rooms  20909 non-null  int64  \n",
      " 70  calculated_host_listings_count_shared_rooms   20909 non-null  int64  \n",
      " 71  reviews_per_month                             17689 non-null  float64\n",
      "dtypes: float64(17), int64(21), object(34)\n",
      "memory usage: 11.5+ MB\n"
     ]
    }
   ],
   "source": [
    "listings_df.info()"
   ]
  },
  {
   "cell_type": "markdown",
   "id": "e8007942",
   "metadata": {},
   "source": [
    "## Correcting formats"
   ]
  },
  {
   "cell_type": "code",
   "execution_count": 42,
   "id": "e95fb904",
   "metadata": {},
   "outputs": [],
   "source": [
    "listings_df['price'] = listings_df['price'].replace('[\\$,]', '', regex=True).astype(float)\n",
    "\n",
    "# Rename the column to 'price_dkk'\n",
    "listings_df.rename(columns={'price': 'price_dkk'}, inplace=True)\n",
    "\n",
    "#converting rate from object to floats\n",
    "columns_to_convert = ['host_response_rate', 'host_acceptance_rate']\n",
    "\n",
    "for column in columns_to_convert:\n",
    "        # Remove '%' and convert to float\n",
    "        listings_df[column] = listings_df[column].str.replace('%', '').astype(float) / 10\n",
    "        \n",
    "# Rename the column to 'listing_id for readability in start schema'\n",
    "listings_df.rename(columns={'id': 'listing_id'}, inplace=True)"
   ]
  },
  {
   "cell_type": "markdown",
   "id": "96b74f57",
   "metadata": {},
   "source": [
    "## Simplifying qualitative information"
   ]
  },
  {
   "cell_type": "code",
   "execution_count": 43,
   "id": "eba2a90b",
   "metadata": {},
   "outputs": [],
   "source": [
    "listings_df.drop(columns=['bathrooms'], inplace=True)\n",
    "\n",
    "listings_df['number_of_bathrooms'] = None\n",
    "listings_df['type_of_bathroom'] = None\n",
    "\n",
    "listings_df.loc[listings_df['bathrooms_text'].isnull(), ['number_of_bathrooms', 'type_of_bathroom']] = None\n",
    "\n",
    "listings_df['number_of_bathrooms'] = listings_df['bathrooms_text'].str.extract(r'(\\d+\\.?\\d*)').astype(float)\n",
    "\n",
    "listings_df.loc[listings_df['number_of_bathrooms'].isnull() & listings_df['bathrooms_text'].str.contains('bath', case=False, na=False), 'number_of_bathrooms'] = 0.5\n",
    "\n",
    "listings_df['type_of_bathroom'] = listings_df['bathrooms_text'].apply(lambda x: 'shared' if isinstance(x, str) and 'shared' in x.lower() else 'private' if isinstance(x, str) else None\n",
    "    )\n",
    "    "
   ]
  },
  {
   "cell_type": "code",
   "execution_count": 44,
   "id": "af98d5f6",
   "metadata": {},
   "outputs": [],
   "source": [
    "# Quantifying reviews \n",
    "listings_df['description_format'] = listings_df['description'].apply(lambda x: \n",
    "        'short' if len(str(x)) < 100 else\n",
    "        'medium' if 100 <= len(str(x)) <= 500 else\n",
    "        'long')\n",
    "listings_df.drop(columns=['description'], inplace=True)"
   ]
  },
  {
   "cell_type": "code",
   "execution_count": 45,
   "id": "6c9c3be9",
   "metadata": {},
   "outputs": [],
   "source": [
    "# Quantifying neighborhood_overview\n",
    "listings_df['neighborhood_overview_format'] = listings_df['neighborhood_overview'].apply(lambda x: \n",
    "        'short' if len(str(x)) < 100 else\n",
    "        'medium' if 100 <= len(str(x)) <= 500 else\n",
    "        'long')\n",
    "listings_df.drop(columns=['neighborhood_overview'], inplace=True)\n"
   ]
  },
  {
   "cell_type": "code",
   "execution_count": 46,
   "id": "4a18a49a",
   "metadata": {},
   "outputs": [],
   "source": [
    "#Quantifying host_about\n",
    "listings_df['host_about_format'] = listings_df['host_about'].apply(lambda x: \n",
    "        'short' if len(str(x)) < 100 else\n",
    "        'medium' if 100 <= len(str(x)) <= 500 else\n",
    "        'long')\n",
    "listings_df.drop(columns=['host_about'], inplace=True)"
   ]
  },
  {
   "cell_type": "code",
   "execution_count": 47,
   "id": "b99a1457",
   "metadata": {},
   "outputs": [
    {
     "name": "stdout",
     "output_type": "stream",
     "text": [
      "medium    13861\n",
      "long       5316\n",
      "short      1732\n",
      "Name: description_format, dtype: int64\n",
      "short     13404\n",
      "medium     5478\n",
      "long       2027\n",
      "Name: neighborhood_overview_format, dtype: int64\n",
      "short     14489\n",
      "medium     5858\n",
      "long        562\n",
      "Name: host_about_format, dtype: int64\n"
     ]
    }
   ],
   "source": [
    "print(listings_df['description_format'].value_counts())\n",
    "print(listings_df['neighborhood_overview_format'].value_counts())\n",
    "print(listings_df['host_about_format'].value_counts())"
   ]
  },
  {
   "cell_type": "code",
   "execution_count": 48,
   "id": "a8460c57",
   "metadata": {},
   "outputs": [],
   "source": [
    "#amount of ammenites includes/listed\n",
    "def count_amenities(amenities_str):\n",
    "    try:\n",
    "        # Convert the string to an actual list\n",
    "        amenities_list = ast.literal_eval(amenities_str)\n",
    "        return len(amenities_list)\n",
    "    except:\n",
    "        # If the string is not valid or is NaN, return 0\n",
    "        return 0\n",
    "\n",
    "listings_df['num_amenities'] = listings_df['amenities'].apply(count_amenities)"
   ]
  },
  {
   "cell_type": "code",
   "execution_count": 49,
   "id": "4dee72c9",
   "metadata": {},
   "outputs": [
    {
     "data": {
      "text/plain": [
       "(20909, 74)"
      ]
     },
     "execution_count": 49,
     "metadata": {},
     "output_type": "execute_result"
    }
   ],
   "source": [
    "listings_df.shape"
   ]
  },
  {
   "cell_type": "markdown",
   "id": "94396e87",
   "metadata": {},
   "source": [
    "## OUTLIERS\n"
   ]
  },
  {
   "cell_type": "code",
   "execution_count": 50,
   "id": "0c0f1547",
   "metadata": {},
   "outputs": [
    {
     "name": "stdout",
     "output_type": "stream",
     "text": [
      "100000.0\n",
      "239\n",
      "436\n",
      "4\n"
     ]
    }
   ],
   "source": [
    "print(listings_df['price_dkk'].max())\n",
    "print(listings_df['calculated_host_listings_count'].max())\n",
    "\n",
    "print(listings_df[listings_df['calculated_host_listings_count'] > 20].shape[0])\n",
    "print(listings_df[listings_df['price_dkk'] > 20000].shape[0])\n",
    "\n"
   ]
  },
  {
   "cell_type": "code",
   "execution_count": 51,
   "id": "c3271c2f",
   "metadata": {},
   "outputs": [
    {
     "data": {
      "image/png": "[encoded data removed]",
      "text/plain": [
       "<Figure size 800x600 with 1 Axes>"
      ]
     },
     "metadata": {},
     "output_type": "display_data"
    }
   ],
   "source": [
    "# Scatterplot for 'price_dkk' vs 'calculated_host_listings_count'\n",
    "plt.figure(figsize=(8, 6))  \n",
    "plt.scatter(listings_df['calculated_host_listings_count'], listings_df['price_dkk'], alpha=0.5, color='blue')\n",
    "\n",
    "plt.xlabel('Calculated Host Listings Count')\n",
    "plt.ylabel('Price (DKK)')\n",
    "plt.title('Scatterplot of Price vs Host Listings Count')\n",
    "\n",
    "plt.show()"
   ]
  },
  {
   "cell_type": "code",
   "execution_count": 52,
   "id": "6ebf808e",
   "metadata": {},
   "outputs": [],
   "source": [
    "listings_df = listings_df[\n",
    "    (listings_df['price_dkk'] <= int(20000)) & (listings_df['calculated_host_listings_count'] <= int(50))\n",
    "    ]"
   ]
  },
  {
   "cell_type": "code",
   "execution_count": 53,
   "id": "6d425f77",
   "metadata": {},
   "outputs": [
    {
     "data": {
      "image/png": "[encoded data removed]",
      "text/plain": [
       "<Figure size 800x600 with 1 Axes>"
      ]
     },
     "metadata": {},
     "output_type": "display_data"
    }
   ],
   "source": [
    "# Scatterplot for 'price_dkk' vs 'calculated_host_listings_count'\n",
    "plt.figure(figsize=(8, 6)) \n",
    "plt.scatter(listings_df['calculated_host_listings_count'], listings_df['price_dkk'], alpha=0.5, color='blue')\n",
    "\n",
    "plt.xlabel('Calculated Host Listings Count')\n",
    "plt.ylabel('Price (DKK)')\n",
    "plt.title('Scatterplot of Price vs Host Listings Count')\n",
    "\n",
    "\n",
    "plt.show()"
   ]
  },
  {
   "cell_type": "code",
   "execution_count": 54,
   "id": "8a75816c",
   "metadata": {},
   "outputs": [],
   "source": [
    "listings_df = listings_df[\n",
    "    (listings_df['price_dkk'] <= int(12500)) & (listings_df['calculated_host_listings_count'] <= int(15))\n",
    "    ]"
   ]
  },
  {
   "cell_type": "code",
   "execution_count": 55,
   "id": "b0911cf1",
   "metadata": {},
   "outputs": [
    {
     "data": {
      "image/png": "[encoded data removed]",
      "text/plain": [
       "<Figure size 800x600 with 1 Axes>"
      ]
     },
     "metadata": {},
     "output_type": "display_data"
    }
   ],
   "source": [
    "# Scatterplot for 'price_dkk' vs 'calculated_host_listings_count'\n",
    "plt.figure(figsize=(8, 6))  \n",
    "plt.scatter(listings_df['calculated_host_listings_count'], listings_df['price_dkk'], alpha=0.5, color='blue')\n",
    "\n",
    "\n",
    "plt.xlabel('Calculated Host Listings Count')\n",
    "plt.ylabel('Price (DKK)')\n",
    "plt.title('Scatterplot of Price vs Host Listings Count')\n",
    "\n",
    "plt.show()"
   ]
  },
  {
   "cell_type": "code",
   "execution_count": 56,
   "id": "22e28cad",
   "metadata": {},
   "outputs": [
    {
     "name": "stdout",
     "output_type": "stream",
     "text": [
      "12500.0\n",
      "14\n"
     ]
    }
   ],
   "source": [
    "print(listings_df['price_dkk'].max())\n",
    "print(listings_df['calculated_host_listings_count'].max())"
   ]
  },
  {
   "cell_type": "code",
   "execution_count": 57,
   "id": "0c7fb6c4",
   "metadata": {},
   "outputs": [
    {
     "data": {
      "text/plain": [
       "(13148, 74)"
      ]
     },
     "execution_count": 57,
     "metadata": {},
     "output_type": "execute_result"
    }
   ],
   "source": [
    "listings_df.shape"
   ]
  },
  {
   "cell_type": "markdown",
   "id": "f78d5b1c",
   "metadata": {},
   "source": [
    "## Remove inactive listings"
   ]
  },
  {
   "cell_type": "code",
   "execution_count": 58,
   "id": "91d2047a",
   "metadata": {},
   "outputs": [
    {
     "name": "stdout",
     "output_type": "stream",
     "text": [
      "Updated listings_df shape: (13120, 74)\n"
     ]
    },
    {
     "data": {
      "text/plain": [
       "28"
      ]
     },
     "execution_count": 58,
     "metadata": {},
     "output_type": "execute_result"
    }
   ],
   "source": [
    "listings_df[\"last_review\"] = pd.to_datetime(listings_df[\"last_review\"], errors=\"coerce\")\n",
    "\n",
    "inactive_listing_ids = []\n",
    "\n",
    "for index, row in listings_df.iterrows():\n",
    "    if (\n",
    "        row[\"availability_365\"] == 0 and\n",
    "        (\n",
    "            row[\"number_of_reviews\"] == 0 or\n",
    "            row[\"last_review\"] < pd.Timestamp(\"2021-01-01\")\n",
    "        )\n",
    "    ):\n",
    "        inactive_listing_ids.append(row[\"listing_id\"])\n",
    "\n",
    "listings_df = listings_df.loc[~listings_df[\"listing_id\"].isin(inactive_listing_ids)]\n",
    "\n",
    "calendar_df = calendar_df.loc[~calendar_df[\"listing_id\"].isin(inactive_listing_ids)]\n",
    "\n",
    "print(\"Updated listings_df shape:\", listings_df.shape)\n",
    "len(inactive_listing_ids)"
   ]
  },
  {
   "cell_type": "markdown",
   "id": "4e5c34bd",
   "metadata": {},
   "source": [
    "## Location corrections\n"
   ]
  },
  {
   "cell_type": "markdown",
   "id": "0949ed06",
   "metadata": {},
   "source": [
    "Street Name text Street name of the listing.\n",
    "House Number text House number of the listing.\n",
    "Zip Code integer Zip code of the listing.\n",
    "Area text Area of the listing.\n",
    "City text City of the listing."
   ]
  },
  {
   "cell_type": "code",
   "execution_count": 59,
   "id": "8611c7d6",
   "metadata": {},
   "outputs": [
    {
     "ename": "NameError",
     "evalue": "name 'googlemaps' is not defined",
     "output_type": "error",
     "traceback": [
      "\u001b[0;31m---------------------------------------------------------------------------\u001b[0m",
      "\u001b[0;31mNameError\u001b[0m                                 Traceback (most recent call last)",
      "\u001b[0;32m/var/folders/g6/v5w89nm96b732r3v5w91v8dm0000gn/T/ipykernel_26652/993528137.py\u001b[0m in \u001b[0;36m<module>\u001b[0;34m\u001b[0m\n\u001b[1;32m      1\u001b[0m \u001b[0;31m# Set up the Google Maps API client (replace 'your_api_key' with your actual API key)\u001b[0m\u001b[0;34m\u001b[0m\u001b[0;34m\u001b[0m\u001b[0m\n\u001b[0;32m----> 2\u001b[0;31m \u001b[0mgmaps\u001b[0m \u001b[0;34m=\u001b[0m \u001b[0mgooglemaps\u001b[0m\u001b[0;34m.\u001b[0m\u001b[0mClient\u001b[0m\u001b[0;34m(\u001b[0m\u001b[0mkey\u001b[0m\u001b[0;34m=\u001b[0m\u001b[0;34m'your_api_key'\u001b[0m\u001b[0;34m)\u001b[0m\u001b[0;34m\u001b[0m\u001b[0;34m\u001b[0m\u001b[0m\n\u001b[0m\u001b[1;32m      3\u001b[0m \u001b[0;34m\u001b[0m\u001b[0m\n\u001b[1;32m      4\u001b[0m \u001b[0;31m# Filter the rows where both 'latitude' and 'longitude' are non-null\u001b[0m\u001b[0;34m\u001b[0m\u001b[0;34m\u001b[0m\u001b[0m\n\u001b[1;32m      5\u001b[0m \u001b[0mdata_non_null\u001b[0m \u001b[0;34m=\u001b[0m \u001b[0mdata\u001b[0m\u001b[0;34m.\u001b[0m\u001b[0mdropna\u001b[0m\u001b[0;34m(\u001b[0m\u001b[0msubset\u001b[0m\u001b[0;34m=\u001b[0m\u001b[0;34m[\u001b[0m\u001b[0;34m'latitude'\u001b[0m\u001b[0;34m,\u001b[0m \u001b[0;34m'longitude'\u001b[0m\u001b[0;34m]\u001b[0m\u001b[0;34m)\u001b[0m\u001b[0;34m\u001b[0m\u001b[0;34m\u001b[0m\u001b[0m\n",
      "\u001b[0;31mNameError\u001b[0m: name 'googlemaps' is not defined"
     ]
    }
   ],
   "source": [
    "# Set up the Google Maps API client (replace 'your_api_key' with your actual API key)\n",
    "gmaps = googlemaps.Client(key='your_api_key')\n",
    "\n",
    "# Filter the rows where both 'latitude' and 'longitude' are non-null\n",
    "data_non_null = data.dropna(subset=['latitude', 'longitude'])\n",
    "\n",
    "# Function to perform reverse geocoding and extract the neighborhood\n",
    "def get_neighborhood(lat, lng):\n",
    "    try:\n",
    "        # Perform reverse geocoding\n",
    "        reverse_geocode_result = gmaps.reverse_geocode((lat, lng))\n",
    "        \n",
    "        # Loop through the results and look for the neighborhood in the address components\n",
    "        for result in reverse_geocode_result:\n",
    "            for component in result['address_components']:\n",
    "                if 'neighborhood' in component['types']:\n",
    "                    return component['long_name']\n",
    "        return None  # Return None if neighborhood is not found\n",
    "    except Exception as e:\n",
    "        print(f\"Error occurred: {e}\")\n",
    "        return None\n",
    "\n",
    "# Apply reverse geocoding to the non-null latitude and longitude rows\n",
    "data_non_null['neighborhood'] = data_non_null.apply(lambda row: get_neighborhood(row['latitude'], row['longitude']), axis=1)\n",
    "\n",
    "# Merge the neighborhood data back into the original dataset\n",
    "data = data.merge(data_non_null[['latitude', 'longitude', 'neighborhood']], on=['latitude', 'longitude'], how='left')"
   ]
  },
  {
   "cell_type": "markdown",
   "id": "c3ef5a59",
   "metadata": {},
   "source": [
    "## Success factor - MOVE TO SQL\n"
   ]
  },
  {
   "cell_type": "code",
   "execution_count": 60,
   "id": "95c0d7f3",
   "metadata": {},
   "outputs": [
    {
     "data": {
      "text/plain": [
       "(13120, 75)"
      ]
     },
     "execution_count": 60,
     "metadata": {},
     "output_type": "execute_result"
    }
   ],
   "source": [
    "listings_df['reviews_per_month'] = pd.to_numeric(listings_df['reviews_per_month'], errors='coerce')\n",
    "listings_df['review_scores_rating'] = pd.to_numeric(listings_df['review_scores_rating'], errors='coerce')\n",
    "listings_df['price_dkk'] = pd.to_numeric(listings_df['price_dkk'], errors='coerce')\n",
    "\n",
    "listings_df['success_measure'] = listings_df['reviews_per_month'] * listings_df['review_scores_rating'] * listings_df['price_dkk']\n",
    "\n",
    "listings_df.shape"
   ]
  },
  {
   "cell_type": "code",
   "execution_count": 61,
   "id": "630dfe23",
   "metadata": {},
   "outputs": [
    {
     "name": "stdout",
     "output_type": "stream",
     "text": [
      "Column 'calendar_last_scraped' has been removed.\n",
      "Column 'last_scraped' has been removed.\n",
      "Column 'listing_url' has been removed.\n",
      "Column 'picture_url' has been removed.\n",
      "Column 'host_url' has been removed.\n",
      "Column 'host_thumbnail_url' has been removed.\n",
      "Column 'host_picture_url' has been removed.\n",
      "Column 'neighbourhood' has been removed.\n",
      "Column 'neighbourhood_cleansed' has been removed.\n",
      "Column 'minimum_nights' has been removed.\n",
      "Column 'maximum_nights' has been removed.\n",
      "Column 'minimum_minimum_nights' has been removed.\n",
      "Column 'minimum_maximum_nights' has been removed.\n",
      "Column 'maximum_minimum_nights' has been removed.\n",
      "Column 'availability_30' has been removed.\n",
      "Column 'availability_60' has been removed.\n",
      "Column 'availability_90' has been removed.\n",
      "Column ' minimum_maximum_nights' does not exist in the DataFrame.\n",
      "Column 'maximum_maximum_nights' has been removed.\n",
      "Column 'calculated_host_listings_count_entire_homes' has been removed.\n",
      "Column 'calculated_host_listings_count_private_rooms' has been removed.\n",
      "Column 'host_neighbourhood' has been removed.\n",
      "Column 'calculated_host_listings_count_shared_rooms' has been removed.\n",
      "Column 'has_availability' has been removed.\n"
     ]
    }
   ],
   "source": [
    "#Removing columns that are not useful \n",
    "\n",
    "columns_to_remove = ['calendar_last_scraped','last_scraped','listing_url', 'picture_url', 'host_url','host_thumbnail_url','host_picture_url','neighbourhood','neighbourhood_cleansed','minimum_nights', 'maximum_nights', 'minimum_minimum_nights','minimum_maximum_nights', 'maximum_minimum_nights','availability_30', 'availability_60','availability_90', ' minimum_maximum_nights', 'maximum_maximum_nights', 'calculated_host_listings_count_entire_homes', 'calculated_host_listings_count_private_rooms', 'host_neighbourhood','calculated_host_listings_count_shared_rooms','has_availability']\n",
    "\n",
    "for column in columns_to_remove:\n",
    "    if column in listings_df.columns:\n",
    "        listings_df = listings_df.drop(columns=[column])\n",
    "        print(f\"Column '{column}' has been removed.\")\n",
    "    else:\n",
    "        print(f\"Column '{column}' does not exist in the DataFrame.\")\n",
    "        \n",
    "listings_df = listings_df.dropna(subset=['success_measure'])\n"
   ]
  },
  {
   "cell_type": "code",
   "execution_count": 62,
   "id": "d31100ca",
   "metadata": {},
   "outputs": [
    {
     "name": "stdout",
     "output_type": "stream",
     "text": [
      "<class 'pandas.core.frame.DataFrame'>\n",
      "Int64Index: 10887 entries, 1 to 20723\n",
      "Data columns (total 52 columns):\n",
      " #   Column                          Non-Null Count  Dtype         \n",
      "---  ------                          --------------  -----         \n",
      " 0   listing_id                      10887 non-null  int64         \n",
      " 1   scrape_id                       10887 non-null  int64         \n",
      " 2   source                          10887 non-null  object        \n",
      " 3   name                            10887 non-null  object        \n",
      " 4   host_id                         10887 non-null  int64         \n",
      " 5   host_name                       10887 non-null  object        \n",
      " 6   host_since                      10887 non-null  object        \n",
      " 7   host_location                   9105 non-null   object        \n",
      " 8   host_response_time              9679 non-null   object        \n",
      " 9   host_response_rate              9679 non-null   float64       \n",
      " 10  host_acceptance_rate            10514 non-null  float64       \n",
      " 11  host_is_superhost               10803 non-null  object        \n",
      " 12  host_listings_count             10887 non-null  float64       \n",
      " 13  host_total_listings_count       10887 non-null  float64       \n",
      " 14  host_verifications              10887 non-null  object        \n",
      " 15  host_has_profile_pic            10887 non-null  object        \n",
      " 16  host_identity_verified          10887 non-null  object        \n",
      " 17  latitude                        10887 non-null  float64       \n",
      " 18  longitude                       10887 non-null  float64       \n",
      " 19  property_type                   10887 non-null  object        \n",
      " 20  room_type                       10887 non-null  object        \n",
      " 21  accommodates                    10887 non-null  int64         \n",
      " 22  bathrooms_text                  10885 non-null  object        \n",
      " 23  bedrooms                        10886 non-null  float64       \n",
      " 24  beds                            10884 non-null  float64       \n",
      " 25  amenities                       10887 non-null  object        \n",
      " 26  price_dkk                       10887 non-null  float64       \n",
      " 27  minimum_nights_avg_ntm          10887 non-null  float64       \n",
      " 28  maximum_nights_avg_ntm          10887 non-null  float64       \n",
      " 29  availability_365                10887 non-null  int64         \n",
      " 30  number_of_reviews               10887 non-null  int64         \n",
      " 31  number_of_reviews_ltm           10887 non-null  int64         \n",
      " 32  number_of_reviews_l30d          10887 non-null  int64         \n",
      " 33  first_review                    10887 non-null  object        \n",
      " 34  last_review                     10887 non-null  datetime64[ns]\n",
      " 35  review_scores_rating            10887 non-null  float64       \n",
      " 36  review_scores_accuracy          10866 non-null  float64       \n",
      " 37  review_scores_cleanliness       10866 non-null  float64       \n",
      " 38  review_scores_checkin           10866 non-null  float64       \n",
      " 39  review_scores_communication     10866 non-null  float64       \n",
      " 40  review_scores_location          10865 non-null  float64       \n",
      " 41  review_scores_value             10866 non-null  float64       \n",
      " 42  instant_bookable                10887 non-null  object        \n",
      " 43  calculated_host_listings_count  10887 non-null  int64         \n",
      " 44  reviews_per_month               10887 non-null  float64       \n",
      " 45  number_of_bathrooms             10885 non-null  float64       \n",
      " 46  type_of_bathroom                10885 non-null  object        \n",
      " 47  description_format              10887 non-null  object        \n",
      " 48  neighborhood_overview_format    10887 non-null  object        \n",
      " 49  host_about_format               10887 non-null  object        \n",
      " 50  num_amenities                   10887 non-null  int64         \n",
      " 51  success_measure                 10887 non-null  float64       \n",
      "dtypes: datetime64[ns](1), float64(21), int64(10), object(20)\n",
      "memory usage: 4.4+ MB\n"
     ]
    }
   ],
   "source": [
    "listings_df.shape\n",
    "listings_df.info()"
   ]
  },
  {
   "cell_type": "code",
   "execution_count": 63,
   "id": "70afbe38",
   "metadata": {},
   "outputs": [],
   "source": [
    "listings_df.to_csv(\"listings_output.csv\", index=False)"
   ]
  },
  {
   "cell_type": "markdown",
   "id": "5c7cad26",
   "metadata": {},
   "source": [
    "# Calendar"
   ]
  },
  {
   "cell_type": "code",
   "execution_count": 64,
   "id": "a816e02e",
   "metadata": {},
   "outputs": [
    {
     "name": "stdout",
     "output_type": "stream",
     "text": [
      "<class 'pandas.core.frame.DataFrame'>\n",
      "Int64Index: 7621511 entries, 0 to 7631365\n",
      "Data columns (total 7 columns):\n",
      " #   Column          Dtype  \n",
      "---  ------          -----  \n",
      " 0   listing_id      int64  \n",
      " 1   date            object \n",
      " 2   available       object \n",
      " 3   price           object \n",
      " 4   adjusted_price  float64\n",
      " 5   minimum_nights  float64\n",
      " 6   maximum_nights  float64\n",
      "dtypes: float64(3), int64(1), object(3)\n",
      "memory usage: 465.2+ MB\n"
     ]
    }
   ],
   "source": [
    "calendar_df.info()"
   ]
  },
  {
   "cell_type": "code",
   "execution_count": 65,
   "id": "b000bd87",
   "metadata": {},
   "outputs": [
    {
     "data": {
      "text/plain": [
       "(3973729, 7)"
      ]
     },
     "execution_count": 65,
     "metadata": {},
     "output_type": "execute_result"
    }
   ],
   "source": [
    "#removing the listig ids we have removed from listing listings from the calendar as well \n",
    "\n",
    "valid_listing_ids = set(listings_df[\"listing_id\"])  # Get all valid listing IDs from listings_df\n",
    "calendar_df = calendar_df.loc[calendar_df[\"listing_id\"].isin(valid_listing_ids)]\n",
    "\n",
    "calendar_df.shape\n",
    "\n"
   ]
  },
  {
   "cell_type": "markdown",
   "id": "e2cb1641",
   "metadata": {},
   "source": [
    "TRANSFER TO SQL AS MUCH AS POSSIBLE"
   ]
  },
  {
   "cell_type": "code",
   "execution_count": 66,
   "id": "ebdd9393",
   "metadata": {},
   "outputs": [],
   "source": [
    "# Filter booked rows (available == 'f' means booked)\n",
    "booked_df = calendar_df.loc[calendar_df[\"available\"] == 'f'].copy()\n",
    "\n",
    "# Convert 'date' column to datetime\n",
    "booked_df[\"date\"] = pd.to_datetime(booked_df[\"date\"])\n",
    "\n",
    "# Clean 'price' column (remove dollar signs and commas) and convert to float\n",
    "booked_df[\"price\"] = booked_df[\"price\"].replace({'\\$': '', ',': ''}, regex=True).astype(float)\n",
    "\n",
    "# Sort the data by listing_id and date\n",
    "booked_df = booked_df.sort_values(by=[\"listing_id\", \"date\"])\n",
    "\n",
    "# Create a 'group' column to identify consecutive 'f' values for each listing\n",
    "booked_df[\"group\"] = (\n",
    "    (booked_df[\"date\"] - booked_df.groupby(\"listing_id\")[\"date\"].shift()).gt(pd.Timedelta(days=1)) \n",
    "    | booked_df.groupby(\"listing_id\")[\"date\"].shift().isna()\n",
    ").cumsum()\n",
    "\n",
    "# Reset the group counter to start from 1 for each listing_id\n",
    "booked_df[\"group\"] = booked_df.groupby(\"listing_id\")[\"group\"].transform(lambda x: x - x.min() + 1)\n",
    "\n",
    "# Aggregate the bookings by 'listing_id' and 'group' to get the booking period\n",
    "bookings = booked_df.groupby([\"listing_id\", \"group\"]).agg(\n",
    "    booked_from=(\"date\", \"min\"),  # First date in the group\n",
    "    booked_to=(\"date\", \"max\"),    # Last date in the group\n",
    "    price=(\"price\", \"first\")      # Price for the listing (same for all rows in a group)\n",
    ").reset_index(drop=False)\n",
    "\n",
    "# Calculate the number of days booked for each booking period\n",
    "bookings[\"days_booked\"] = (bookings[\"booked_to\"] - bookings[\"booked_from\"]).dt.days + 1\n",
    "\n",
    "# Calculate potential revenue for each booking\n",
    "bookings[\"potential_revenue\"] = bookings[\"price\"] * bookings[\"days_booked\"]\n",
    "\n",
    "# Add a unique booking ID for each booking\n",
    "bookings[\"booking_id\"] = range(1, len(bookings) + 1)\n",
    "bookings.shape\n",
    "\n",
    "#Save the resulting DataFrame to a CSV\n",
    "bookings.to_csv(\"bookings_output.csv\", index=False)"
   ]
  },
  {
   "cell_type": "code",
   "execution_count": 67,
   "id": "be3a7783",
   "metadata": {},
   "outputs": [
    {
     "name": "stdout",
     "output_type": "stream",
     "text": [
      "<class 'pandas.core.frame.DataFrame'>\n",
      "RangeIndex: 56640 entries, 0 to 56639\n",
      "Data columns (total 8 columns):\n",
      " #   Column             Non-Null Count  Dtype         \n",
      "---  ------             --------------  -----         \n",
      " 0   listing_id         56640 non-null  int64         \n",
      " 1   group              56640 non-null  int64         \n",
      " 2   booked_from        56640 non-null  datetime64[ns]\n",
      " 3   booked_to          56640 non-null  datetime64[ns]\n",
      " 4   price              56640 non-null  float64       \n",
      " 5   days_booked        56640 non-null  int64         \n",
      " 6   potential_revenue  56640 non-null  float64       \n",
      " 7   booking_id         56640 non-null  int64         \n",
      "dtypes: datetime64[ns](2), float64(2), int64(4)\n",
      "memory usage: 3.5 MB\n"
     ]
    }
   ],
   "source": [
    "bookings.info()"
   ]
  },
  {
   "cell_type": "markdown",
   "id": "950dc08f",
   "metadata": {},
   "source": [
    "# Reviews"
   ]
  },
  {
   "cell_type": "code",
   "execution_count": 68,
   "id": "3c829747",
   "metadata": {},
   "outputs": [
    {
     "name": "stdout",
     "output_type": "stream",
     "text": [
      "<class 'pandas.core.frame.DataFrame'>\n",
      "RangeIndex: 366636 entries, 0 to 366635\n",
      "Data columns (total 6 columns):\n",
      " #   Column         Non-Null Count   Dtype \n",
      "---  ------         --------------   ----- \n",
      " 0   listing_id     366636 non-null  int64 \n",
      " 1   id             366636 non-null  int64 \n",
      " 2   date           366636 non-null  object\n",
      " 3   reviewer_id    366636 non-null  int64 \n",
      " 4   reviewer_name  366636 non-null  object\n",
      " 5   comments       366619 non-null  object\n",
      "dtypes: int64(3), object(3)\n",
      "memory usage: 16.8+ MB\n"
     ]
    }
   ],
   "source": [
    "reviews_df.info()"
   ]
  },
  {
   "cell_type": "code",
   "execution_count": 69,
   "id": "5be9f9bf",
   "metadata": {},
   "outputs": [],
   "source": [
    "reviews_df.rename(columns={'id': 'guest_id'}, inplace=True)\n",
    "reviews_df.rename(columns={'date': 'review_date'}, inplace=True)\n",
    "reviews_df.to_csv(\"reviews_output.csv\", index=False)"
   ]
  },
  {
   "cell_type": "code",
   "execution_count": null,
   "id": "e2ff2f80",
   "metadata": {},
   "outputs": [],
   "source": []
  },
  {
   "cell_type": "code",
   "execution_count": null,
   "id": "a9e73476",
   "metadata": {},
   "outputs": [],
   "source": []
  },
  {
   "cell_type": "code",
   "execution_count": null,
   "id": "6a4da48a",
   "metadata": {},
   "outputs": [],
   "source": []
  }
 ],
 "metadata": {
  "kernelspec": {
   "display_name": "Python 3 (ipykernel)",
   "language": "python",
   "name": "python3"
  },
  "language_info": {
   "codemirror_mode": {
    "name": "ipython",
    "version": 3
   },
   "file_extension": ".py",
   "mimetype": "text/x-python",
   "name": "python",
   "nbconvert_exporter": "python",
   "pygments_lexer": "ipython3",
   "version": "3.9.13"
  }
 },
 "nbformat": 4,
 "nbformat_minor": 5
}
